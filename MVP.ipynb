{
 "cells": [
  {
   "cell_type": "code",
   "execution_count": 1,
   "id": "5d0700f0",
   "metadata": {},
   "outputs": [],
   "source": [
    "#Import Library\n",
    "import pandas as pd\n",
    "import matplotlib.pyplot as plt\n",
    "import seaborn as sns\n",
    "from dython.nominal import cramers_v, correlation_ratio\n",
    "from sklearn.model_selection import train_test_split\n",
    "from sklearn.linear_model import LogisticRegression\n",
    "from sklearn.preprocessing import StandardScaler\n",
    "from sklearn.ensemble import RandomForestClassifier\n",
    "from sklearn.metrics import accuracy_score,confusion_matrix,classification_report,plot_confusion_matrix\n",
    " "
   ]
  },
  {
   "cell_type": "markdown",
   "id": "5c327267",
   "metadata": {},
   "source": [
    " Data Understanding::"
   ]
  },
  {
   "cell_type": "code",
   "execution_count": 2,
   "id": "70d5a366",
   "metadata": {},
   "outputs": [
    {
     "data": {
      "text/html": [
       "<div>\n",
       "<style scoped>\n",
       "    .dataframe tbody tr th:only-of-type {\n",
       "        vertical-align: middle;\n",
       "    }\n",
       "\n",
       "    .dataframe tbody tr th {\n",
       "        vertical-align: top;\n",
       "    }\n",
       "\n",
       "    .dataframe thead th {\n",
       "        text-align: right;\n",
       "    }\n",
       "</style>\n",
       "<table border=\"1\" class=\"dataframe\">\n",
       "  <thead>\n",
       "    <tr style=\"text-align: right;\">\n",
       "      <th></th>\n",
       "      <th>enrollee_id</th>\n",
       "      <th>city</th>\n",
       "      <th>city_development_index</th>\n",
       "      <th>gender</th>\n",
       "      <th>relevent_experience</th>\n",
       "      <th>enrolled_university</th>\n",
       "      <th>education_level</th>\n",
       "      <th>major_discipline</th>\n",
       "      <th>experience</th>\n",
       "      <th>company_size</th>\n",
       "      <th>company_type</th>\n",
       "      <th>last_new_job</th>\n",
       "      <th>training_hours</th>\n",
       "      <th>target</th>\n",
       "    </tr>\n",
       "  </thead>\n",
       "  <tbody>\n",
       "    <tr>\n",
       "      <th>0</th>\n",
       "      <td>8949</td>\n",
       "      <td>city_103</td>\n",
       "      <td>0.920</td>\n",
       "      <td>Male</td>\n",
       "      <td>Has relevent experience</td>\n",
       "      <td>no_enrollment</td>\n",
       "      <td>Graduate</td>\n",
       "      <td>STEM</td>\n",
       "      <td>&gt;20</td>\n",
       "      <td>NaN</td>\n",
       "      <td>NaN</td>\n",
       "      <td>1</td>\n",
       "      <td>36</td>\n",
       "      <td>1.0</td>\n",
       "    </tr>\n",
       "    <tr>\n",
       "      <th>1</th>\n",
       "      <td>29725</td>\n",
       "      <td>city_40</td>\n",
       "      <td>0.776</td>\n",
       "      <td>Male</td>\n",
       "      <td>No relevent experience</td>\n",
       "      <td>no_enrollment</td>\n",
       "      <td>Graduate</td>\n",
       "      <td>STEM</td>\n",
       "      <td>15</td>\n",
       "      <td>50-99</td>\n",
       "      <td>Pvt Ltd</td>\n",
       "      <td>&gt;4</td>\n",
       "      <td>47</td>\n",
       "      <td>0.0</td>\n",
       "    </tr>\n",
       "    <tr>\n",
       "      <th>2</th>\n",
       "      <td>11561</td>\n",
       "      <td>city_21</td>\n",
       "      <td>0.624</td>\n",
       "      <td>NaN</td>\n",
       "      <td>No relevent experience</td>\n",
       "      <td>Full time course</td>\n",
       "      <td>Graduate</td>\n",
       "      <td>STEM</td>\n",
       "      <td>5</td>\n",
       "      <td>NaN</td>\n",
       "      <td>NaN</td>\n",
       "      <td>never</td>\n",
       "      <td>83</td>\n",
       "      <td>0.0</td>\n",
       "    </tr>\n",
       "    <tr>\n",
       "      <th>3</th>\n",
       "      <td>33241</td>\n",
       "      <td>city_115</td>\n",
       "      <td>0.789</td>\n",
       "      <td>NaN</td>\n",
       "      <td>No relevent experience</td>\n",
       "      <td>NaN</td>\n",
       "      <td>Graduate</td>\n",
       "      <td>Business Degree</td>\n",
       "      <td>&lt;1</td>\n",
       "      <td>NaN</td>\n",
       "      <td>Pvt Ltd</td>\n",
       "      <td>never</td>\n",
       "      <td>52</td>\n",
       "      <td>1.0</td>\n",
       "    </tr>\n",
       "    <tr>\n",
       "      <th>4</th>\n",
       "      <td>666</td>\n",
       "      <td>city_162</td>\n",
       "      <td>0.767</td>\n",
       "      <td>Male</td>\n",
       "      <td>Has relevent experience</td>\n",
       "      <td>no_enrollment</td>\n",
       "      <td>Masters</td>\n",
       "      <td>STEM</td>\n",
       "      <td>&gt;20</td>\n",
       "      <td>50-99</td>\n",
       "      <td>Funded Startup</td>\n",
       "      <td>4</td>\n",
       "      <td>8</td>\n",
       "      <td>0.0</td>\n",
       "    </tr>\n",
       "  </tbody>\n",
       "</table>\n",
       "</div>"
      ],
      "text/plain": [
       "   enrollee_id      city  city_development_index gender  \\\n",
       "0         8949  city_103                   0.920   Male   \n",
       "1        29725   city_40                   0.776   Male   \n",
       "2        11561   city_21                   0.624    NaN   \n",
       "3        33241  city_115                   0.789    NaN   \n",
       "4          666  city_162                   0.767   Male   \n",
       "\n",
       "       relevent_experience enrolled_university education_level  \\\n",
       "0  Has relevent experience       no_enrollment        Graduate   \n",
       "1   No relevent experience       no_enrollment        Graduate   \n",
       "2   No relevent experience    Full time course        Graduate   \n",
       "3   No relevent experience                 NaN        Graduate   \n",
       "4  Has relevent experience       no_enrollment         Masters   \n",
       "\n",
       "  major_discipline experience company_size    company_type last_new_job  \\\n",
       "0             STEM        >20          NaN             NaN            1   \n",
       "1             STEM         15        50-99         Pvt Ltd           >4   \n",
       "2             STEM          5          NaN             NaN        never   \n",
       "3  Business Degree         <1          NaN         Pvt Ltd        never   \n",
       "4             STEM        >20        50-99  Funded Startup            4   \n",
       "\n",
       "   training_hours  target  \n",
       "0              36     1.0  \n",
       "1              47     0.0  \n",
       "2              83     0.0  \n",
       "3              52     1.0  \n",
       "4               8     0.0  "
      ]
     },
     "execution_count": 2,
     "metadata": {},
     "output_type": "execute_result"
    }
   ],
   "source": [
    "#Reading Data \n",
    "df = pd.read_csv(\"aug_train.csv\")\n",
    "df.head()"
   ]
  },
  {
   "cell_type": "code",
   "execution_count": 3,
   "id": "3051f909",
   "metadata": {},
   "outputs": [
    {
     "name": "stdout",
     "output_type": "stream",
     "text": [
      " Data Shape \n",
      "\n"
     ]
    },
    {
     "data": {
      "text/plain": [
       "(19158, 14)"
      ]
     },
     "execution_count": 3,
     "metadata": {},
     "output_type": "execute_result"
    }
   ],
   "source": [
    "#Check the shape of the dataset\n",
    "print(\" Data Shape \\n\")\n",
    "df.shape"
   ]
  },
  {
   "cell_type": "markdown",
   "id": "ba64d17c",
   "metadata": {},
   "source": [
    "Checking Data Info and Statistical Data::"
   ]
  },
  {
   "cell_type": "code",
   "execution_count": 4,
   "id": "665930f1",
   "metadata": {},
   "outputs": [
    {
     "name": "stdout",
     "output_type": "stream",
     "text": [
      " Data INFO \n",
      "\n",
      "<class 'pandas.core.frame.DataFrame'>\n",
      "RangeIndex: 19158 entries, 0 to 19157\n",
      "Data columns (total 14 columns):\n",
      " #   Column                  Non-Null Count  Dtype  \n",
      "---  ------                  --------------  -----  \n",
      " 0   enrollee_id             19158 non-null  int64  \n",
      " 1   city                    19158 non-null  object \n",
      " 2   city_development_index  19158 non-null  float64\n",
      " 3   gender                  14650 non-null  object \n",
      " 4   relevent_experience     19158 non-null  object \n",
      " 5   enrolled_university     18772 non-null  object \n",
      " 6   education_level         18698 non-null  object \n",
      " 7   major_discipline        16345 non-null  object \n",
      " 8   experience              19093 non-null  object \n",
      " 9   company_size            13220 non-null  object \n",
      " 10  company_type            13018 non-null  object \n",
      " 11  last_new_job            18735 non-null  object \n",
      " 12  training_hours          19158 non-null  int64  \n",
      " 13  target                  19158 non-null  float64\n",
      "dtypes: float64(2), int64(2), object(10)\n",
      "memory usage: 2.0+ MB\n"
     ]
    }
   ],
   "source": [
    "#Check the data types and null count by columns\n",
    "print(\" Data INFO \\n\")\n",
    "df.info()"
   ]
  },
  {
   "cell_type": "code",
   "execution_count": 5,
   "id": "97a7bd2d",
   "metadata": {},
   "outputs": [
    {
     "data": {
      "text/html": [
       "<div>\n",
       "<style scoped>\n",
       "    .dataframe tbody tr th:only-of-type {\n",
       "        vertical-align: middle;\n",
       "    }\n",
       "\n",
       "    .dataframe tbody tr th {\n",
       "        vertical-align: top;\n",
       "    }\n",
       "\n",
       "    .dataframe thead th {\n",
       "        text-align: right;\n",
       "    }\n",
       "</style>\n",
       "<table border=\"1\" class=\"dataframe\">\n",
       "  <thead>\n",
       "    <tr style=\"text-align: right;\">\n",
       "      <th></th>\n",
       "      <th>count</th>\n",
       "      <th>mean</th>\n",
       "      <th>std</th>\n",
       "      <th>min</th>\n",
       "      <th>25%</th>\n",
       "      <th>50%</th>\n",
       "      <th>75%</th>\n",
       "      <th>max</th>\n",
       "    </tr>\n",
       "  </thead>\n",
       "  <tbody>\n",
       "    <tr>\n",
       "      <th>enrollee_id</th>\n",
       "      <td>19158.0</td>\n",
       "      <td>16875.358179</td>\n",
       "      <td>9616.292592</td>\n",
       "      <td>1.000</td>\n",
       "      <td>8554.25</td>\n",
       "      <td>16982.500</td>\n",
       "      <td>25169.75</td>\n",
       "      <td>33380.000</td>\n",
       "    </tr>\n",
       "    <tr>\n",
       "      <th>city_development_index</th>\n",
       "      <td>19158.0</td>\n",
       "      <td>0.828848</td>\n",
       "      <td>0.123362</td>\n",
       "      <td>0.448</td>\n",
       "      <td>0.74</td>\n",
       "      <td>0.903</td>\n",
       "      <td>0.92</td>\n",
       "      <td>0.949</td>\n",
       "    </tr>\n",
       "    <tr>\n",
       "      <th>training_hours</th>\n",
       "      <td>19158.0</td>\n",
       "      <td>65.366896</td>\n",
       "      <td>60.058462</td>\n",
       "      <td>1.000</td>\n",
       "      <td>23.00</td>\n",
       "      <td>47.000</td>\n",
       "      <td>88.00</td>\n",
       "      <td>336.000</td>\n",
       "    </tr>\n",
       "    <tr>\n",
       "      <th>target</th>\n",
       "      <td>19158.0</td>\n",
       "      <td>0.249348</td>\n",
       "      <td>0.432647</td>\n",
       "      <td>0.000</td>\n",
       "      <td>0.00</td>\n",
       "      <td>0.000</td>\n",
       "      <td>0.00</td>\n",
       "      <td>1.000</td>\n",
       "    </tr>\n",
       "  </tbody>\n",
       "</table>\n",
       "</div>"
      ],
      "text/plain": [
       "                          count          mean          std    min      25%  \\\n",
       "enrollee_id             19158.0  16875.358179  9616.292592  1.000  8554.25   \n",
       "city_development_index  19158.0      0.828848     0.123362  0.448     0.74   \n",
       "training_hours          19158.0     65.366896    60.058462  1.000    23.00   \n",
       "target                  19158.0      0.249348     0.432647  0.000     0.00   \n",
       "\n",
       "                              50%       75%        max  \n",
       "enrollee_id             16982.500  25169.75  33380.000  \n",
       "city_development_index      0.903      0.92      0.949  \n",
       "training_hours             47.000     88.00    336.000  \n",
       "target                      0.000      0.00      1.000  "
      ]
     },
     "execution_count": 5,
     "metadata": {},
     "output_type": "execute_result"
    }
   ],
   "source": [
    "#Check the summary statistics of all numeric columns\n",
    "df.describe().T"
   ]
  },
  {
   "cell_type": "code",
   "execution_count": 6,
   "id": "4e5ab0c3",
   "metadata": {},
   "outputs": [
    {
     "data": {
      "text/html": [
       "<div>\n",
       "<style scoped>\n",
       "    .dataframe tbody tr th:only-of-type {\n",
       "        vertical-align: middle;\n",
       "    }\n",
       "\n",
       "    .dataframe tbody tr th {\n",
       "        vertical-align: top;\n",
       "    }\n",
       "\n",
       "    .dataframe thead th {\n",
       "        text-align: right;\n",
       "    }\n",
       "</style>\n",
       "<table border=\"1\" class=\"dataframe\">\n",
       "  <thead>\n",
       "    <tr style=\"text-align: right;\">\n",
       "      <th></th>\n",
       "      <th>count</th>\n",
       "      <th>unique</th>\n",
       "      <th>top</th>\n",
       "      <th>freq</th>\n",
       "    </tr>\n",
       "  </thead>\n",
       "  <tbody>\n",
       "    <tr>\n",
       "      <th>city</th>\n",
       "      <td>19158</td>\n",
       "      <td>123</td>\n",
       "      <td>city_103</td>\n",
       "      <td>4355</td>\n",
       "    </tr>\n",
       "    <tr>\n",
       "      <th>gender</th>\n",
       "      <td>14650</td>\n",
       "      <td>3</td>\n",
       "      <td>Male</td>\n",
       "      <td>13221</td>\n",
       "    </tr>\n",
       "    <tr>\n",
       "      <th>relevent_experience</th>\n",
       "      <td>19158</td>\n",
       "      <td>2</td>\n",
       "      <td>Has relevent experience</td>\n",
       "      <td>13792</td>\n",
       "    </tr>\n",
       "    <tr>\n",
       "      <th>enrolled_university</th>\n",
       "      <td>18772</td>\n",
       "      <td>3</td>\n",
       "      <td>no_enrollment</td>\n",
       "      <td>13817</td>\n",
       "    </tr>\n",
       "    <tr>\n",
       "      <th>education_level</th>\n",
       "      <td>18698</td>\n",
       "      <td>5</td>\n",
       "      <td>Graduate</td>\n",
       "      <td>11598</td>\n",
       "    </tr>\n",
       "    <tr>\n",
       "      <th>major_discipline</th>\n",
       "      <td>16345</td>\n",
       "      <td>6</td>\n",
       "      <td>STEM</td>\n",
       "      <td>14492</td>\n",
       "    </tr>\n",
       "    <tr>\n",
       "      <th>experience</th>\n",
       "      <td>19093</td>\n",
       "      <td>22</td>\n",
       "      <td>&gt;20</td>\n",
       "      <td>3286</td>\n",
       "    </tr>\n",
       "    <tr>\n",
       "      <th>company_size</th>\n",
       "      <td>13220</td>\n",
       "      <td>8</td>\n",
       "      <td>50-99</td>\n",
       "      <td>3083</td>\n",
       "    </tr>\n",
       "    <tr>\n",
       "      <th>company_type</th>\n",
       "      <td>13018</td>\n",
       "      <td>6</td>\n",
       "      <td>Pvt Ltd</td>\n",
       "      <td>9817</td>\n",
       "    </tr>\n",
       "    <tr>\n",
       "      <th>last_new_job</th>\n",
       "      <td>18735</td>\n",
       "      <td>6</td>\n",
       "      <td>1</td>\n",
       "      <td>8040</td>\n",
       "    </tr>\n",
       "  </tbody>\n",
       "</table>\n",
       "</div>"
      ],
      "text/plain": [
       "                     count unique                      top   freq\n",
       "city                 19158    123                 city_103   4355\n",
       "gender               14650      3                     Male  13221\n",
       "relevent_experience  19158      2  Has relevent experience  13792\n",
       "enrolled_university  18772      3            no_enrollment  13817\n",
       "education_level      18698      5                 Graduate  11598\n",
       "major_discipline     16345      6                     STEM  14492\n",
       "experience           19093     22                      >20   3286\n",
       "company_size         13220      8                    50-99   3083\n",
       "company_type         13018      6                  Pvt Ltd   9817\n",
       "last_new_job         18735      6                        1   8040"
      ]
     },
     "execution_count": 6,
     "metadata": {},
     "output_type": "execute_result"
    }
   ],
   "source": [
    "#Check the summary statistics of all object columns\n",
    "df.describe(include = 'object').T"
   ]
  },
  {
   "cell_type": "markdown",
   "id": "9edaf464",
   "metadata": {},
   "source": [
    "Data Cleaning:"
   ]
  },
  {
   "cell_type": "code",
   "execution_count": 7,
   "id": "0b5c302e",
   "metadata": {},
   "outputs": [
    {
     "name": "stdout",
     "output_type": "stream",
     "text": [
      "MISSING VALUES:\n",
      "company_type              6140\n",
      "company_size              5938\n",
      "gender                    4508\n",
      "major_discipline          2813\n",
      "education_level            460\n",
      "last_new_job               423\n",
      "enrolled_university        386\n",
      "experience                  65\n",
      "enrollee_id                  0\n",
      "city                         0\n",
      "city_development_index       0\n",
      "relevent_experience          0\n",
      "training_hours               0\n",
      "target                       0\n",
      "dtype: int64\n"
     ]
    }
   ],
   "source": [
    "#Count the missing values by column in the dataset\n",
    "print(\"MISSING VALUES:\")\n",
    "print(df.isna().sum().sort_values(ascending=False))"
   ]
  },
  {
   "cell_type": "code",
   "execution_count": 8,
   "id": "d3d0ad3e",
   "metadata": {},
   "outputs": [],
   "source": [
    "for Columns in ['gender','enrolled_university','education_level','major_discipline','experience','company_size','company_type','last_new_job']:\n",
    "    df[Columns + \"_Imputed\"] = df[Columns]\n",
    "    df[Columns + \"_Imputed\"].fillna(df[Columns].mode()[0],inplace=True)\n",
    "\n",
    "#Drop actual columns\n",
    "df = df.drop(['gender','enrolled_university','education_level','major_discipline','experience','company_size','company_type','last_new_job'], axis = 1)\n",
    "   \n",
    "#reorder the dataframe\n",
    "df = df[['enrollee_id','city','city_development_index','gender_Imputed','relevent_experience','enrolled_university_Imputed','education_level_Imputed','major_discipline_Imputed','experience_Imputed','company_size_Imputed','company_type_Imputed','last_new_job_Imputed','training_hours','target']]"
   ]
  },
  {
   "cell_type": "code",
   "execution_count": 9,
   "id": "a2d04dc9",
   "metadata": {},
   "outputs": [
    {
     "name": "stdout",
     "output_type": "stream",
     "text": [
      "<class 'pandas.core.frame.DataFrame'>\n",
      "RangeIndex: 19158 entries, 0 to 19157\n",
      "Data columns (total 14 columns):\n",
      " #   Column                       Non-Null Count  Dtype  \n",
      "---  ------                       --------------  -----  \n",
      " 0   enrollee_id                  19158 non-null  int64  \n",
      " 1   city                         19158 non-null  object \n",
      " 2   city_development_index       19158 non-null  float64\n",
      " 3   gender_Imputed               19158 non-null  object \n",
      " 4   relevent_experience          19158 non-null  object \n",
      " 5   enrolled_university_Imputed  19158 non-null  object \n",
      " 6   education_level_Imputed      19158 non-null  object \n",
      " 7   major_discipline_Imputed     19158 non-null  object \n",
      " 8   experience_Imputed           19158 non-null  object \n",
      " 9   company_size_Imputed         19158 non-null  object \n",
      " 10  company_type_Imputed         19158 non-null  object \n",
      " 11  last_new_job_Imputed         19158 non-null  object \n",
      " 12  training_hours               19158 non-null  int64  \n",
      " 13  target                       19158 non-null  float64\n",
      "dtypes: float64(2), int64(2), object(10)\n",
      "memory usage: 2.0+ MB\n"
     ]
    }
   ],
   "source": [
    "df.info()"
   ]
  },
  {
   "cell_type": "markdown",
   "id": "f8f410eb",
   "metadata": {},
   "source": [
    "visualization"
   ]
  },
  {
   "cell_type": "code",
   "execution_count": 10,
   "id": "06d1281d",
   "metadata": {},
   "outputs": [
    {
     "data": {
      "image/png": "[encoded data removed]",
      "text/plain": [
       "<Figure size 864x1080 with 8 Axes>"
      ]
     },
     "metadata": {
      "needs_background": "light"
     },
     "output_type": "display_data"
    },
    {
     "data": {
      "image/png": "[encoded data removed]",
      "text/plain": [
       "<Figure size 864x288 with 1 Axes>"
      ]
     },
     "metadata": {
      "needs_background": "light"
     },
     "output_type": "display_data"
    }
   ],
   "source": [
    "plt.figure(figsize=[12,15])\n",
    "fet=[\"relevent_experience\",\"enrolled_university_Imputed\",\"major_discipline_Imputed\", \"company_size_Imputed\",\"company_type_Imputed\",\"last_new_job_Imputed\", \"training_hours\",\"target\"]\n",
    "n=1\n",
    "for r in fet:\n",
    "    plt.subplot(4,2,n)\n",
    "    sns.countplot(x=r, hue='education_level_Imputed', edgecolor=\"black\", alpha=0.7, data=df)\n",
    "    sns.despine()\n",
    "    plt.title(\"Countplot of {}  by education_level\".format(r))\n",
    "    n=n+1\n",
    "plt.tight_layout()\n",
    "plt.show()\n",
    "plt.figure(figsize=[12,4])\n",
    "sns.countplot(x='experience_Imputed', hue='education_level_Imputed',edgecolor=\"black\", alpha=0.7, data=df)\n",
    "sns.despine()\n",
    "plt.title(\"Countplot of experience by education_level\")\n",
    "plt.show()"
   ]
  },
  {
   "cell_type": "code",
   "execution_count": 11,
   "id": "8cdf8443",
   "metadata": {},
   "outputs": [],
   "source": [
    "df = df.drop(columns=[\"enrollee_id\"])"
   ]
  },
  {
   "cell_type": "markdown",
   "id": "04b432f5",
   "metadata": {},
   "source": [
    "Exploratory Data Analytics and Data Preprocessing::"
   ]
  },
  {
   "cell_type": "markdown",
   "id": "e0144b92",
   "metadata": {},
   "source": [
    "1. City:"
   ]
  },
  {
   "cell_type": "code",
   "execution_count": 12,
   "id": "5075d3b5",
   "metadata": {},
   "outputs": [
    {
     "data": {
      "text/plain": [
       "123"
      ]
     },
     "execution_count": 12,
     "metadata": {},
     "output_type": "execute_result"
    }
   ],
   "source": [
    "df.city.nunique()"
   ]
  },
  {
   "cell_type": "code",
   "execution_count": 13,
   "id": "d373ae62",
   "metadata": {},
   "outputs": [
    {
     "data": {
      "text/plain": [
       "city_103    4355\n",
       "city_21     2702\n",
       "city_16     1533\n",
       "city_114    1336\n",
       "city_160     845\n",
       "            ... \n",
       "city_129       3\n",
       "city_111       3\n",
       "city_121       3\n",
       "city_140       1\n",
       "city_171       1\n",
       "Name: city, Length: 123, dtype: int64"
      ]
     },
     "execution_count": 13,
     "metadata": {},
     "output_type": "execute_result"
    }
   ],
   "source": [
    "df.city.value_counts()"
   ]
  },
  {
   "cell_type": "markdown",
   "id": "d2f19768",
   "metadata": {},
   "source": [
    "convert to numerical"
   ]
  },
  {
   "cell_type": "code",
   "execution_count": 14,
   "id": "44a0c315",
   "metadata": {},
   "outputs": [
    {
     "data": {
      "text/plain": [
       "103    4355\n",
       "21     2702\n",
       "16     1533\n",
       "114    1336\n",
       "160     845\n",
       "       ... \n",
       "129       3\n",
       "111       3\n",
       "121       3\n",
       "140       1\n",
       "171       1\n",
       "Name: city, Length: 123, dtype: int64"
      ]
     },
     "execution_count": 14,
     "metadata": {},
     "output_type": "execute_result"
    }
   ],
   "source": [
    "df[\"city\"]=df[\"city\"].str.replace('city_','')\n",
    "df[\"city\"]=df[\"city\"].astype('int64')\n",
    "df.city.value_counts()"
   ]
  },
  {
   "cell_type": "code",
   "execution_count": 15,
   "id": "407eb67e",
   "metadata": {},
   "outputs": [
    {
     "data": {
      "image/png": "[encoded data removed]",
      "text/plain": [
       "<Figure size 720x360 with 1 Axes>"
      ]
     },
     "metadata": {
      "needs_background": "light"
     },
     "output_type": "display_data"
    }
   ],
   "source": [
    "plt.figure(figsize=(10,5))\n",
    "sns.kdeplot(data=df, x=\"city\", hue=\"target\",cut = 0,palette=\"crest\")\n",
    "plt.title('Density Trainee change a job based on City')\n",
    "plt.show()"
   ]
  },
  {
   "cell_type": "markdown",
   "id": "f45da0b3",
   "metadata": {},
   "source": [
    "From KDEPlot above ,and the above table, we find that the 'city' feature has upto 123 unique values, and would not contribute much, hence we drop the feature."
   ]
  },
  {
   "cell_type": "code",
   "execution_count": 16,
   "id": "6db345dc",
   "metadata": {},
   "outputs": [],
   "source": [
    "df = df.drop(columns=[\"city\"])"
   ]
  },
  {
   "cell_type": "markdown",
   "id": "c5d32b2e",
   "metadata": {},
   "source": [
    "2.City Development Index"
   ]
  },
  {
   "cell_type": "code",
   "execution_count": 17,
   "id": "5705eb4d",
   "metadata": {},
   "outputs": [
    {
     "data": {
      "text/plain": [
       "0.920    5200\n",
       "0.624    2702\n",
       "0.910    1533\n",
       "0.926    1336\n",
       "0.698     683\n",
       "         ... \n",
       "0.649       4\n",
       "0.807       4\n",
       "0.781       3\n",
       "0.625       3\n",
       "0.664       1\n",
       "Name: city_development_index, Length: 93, dtype: int64"
      ]
     },
     "execution_count": 17,
     "metadata": {},
     "output_type": "execute_result"
    }
   ],
   "source": [
    "df.city_development_index.value_counts()"
   ]
  },
  {
   "cell_type": "code",
   "execution_count": 18,
   "id": "68c4dd01",
   "metadata": {},
   "outputs": [
    {
     "data": {
      "image/png": "[encoded data removed]",
      "text/plain": [
       "<Figure size 720x360 with 1 Axes>"
      ]
     },
     "metadata": {
      "needs_background": "light"
     },
     "output_type": "display_data"
    }
   ],
   "source": [
    "plt.figure(figsize=(10,5))\n",
    "sns.kdeplot(data=df, x=\"city_development_index\", hue=\"target\",cut = 0,palette=\"crest\")\n",
    "plt.title('Density Trainee change a job based on City Development Index')\n",
    "plt.show()"
   ]
  },
  {
   "cell_type": "markdown",
   "id": "64aab12a",
   "metadata": {},
   "source": [
    "Based on KDEPlot above, City with higher development index is less likely have trainee who wants to change their job"
   ]
  },
  {
   "cell_type": "markdown",
   "id": "f18be1e6",
   "metadata": {},
   "source": [
    "3. Gender"
   ]
  },
  {
   "cell_type": "code",
   "execution_count": 19,
   "id": "2b76b1b9",
   "metadata": {},
   "outputs": [
    {
     "data": {
      "text/plain": [
       "Male      17729\n",
       "Female     1238\n",
       "Other       191\n",
       "Name: gender_Imputed, dtype: int64"
      ]
     },
     "execution_count": 19,
     "metadata": {},
     "output_type": "execute_result"
    }
   ],
   "source": [
    "df.gender_Imputed.value_counts()"
   ]
  },
  {
   "cell_type": "code",
   "execution_count": 20,
   "id": "d5131d26",
   "metadata": {},
   "outputs": [
    {
     "data": {
      "image/png": "[encoded data removed]",
      "text/plain": [
       "<Figure size 720x360 with 1 Axes>"
      ]
     },
     "metadata": {
      "needs_background": "light"
     },
     "output_type": "display_data"
    }
   ],
   "source": [
    "plt.figure(figsize=(10,5))\n",
    "sns.countplot(x=df.gender_Imputed,hue=df.target, data=df, palette='crest')\n",
    "plt.title('Gender Status Comparison')\n",
    "plt.show()"
   ]
  },
  {
   "cell_type": "markdown",
   "id": "293433e5",
   "metadata": {},
   "source": [
    "Here we see that the number of men is higher than the others."
   ]
  },
  {
   "cell_type": "code",
   "execution_count": 21,
   "id": "c5d13e0b",
   "metadata": {},
   "outputs": [
    {
     "data": {
      "text/html": [
       "<div>\n",
       "<style scoped>\n",
       "    .dataframe tbody tr th:only-of-type {\n",
       "        vertical-align: middle;\n",
       "    }\n",
       "\n",
       "    .dataframe tbody tr th {\n",
       "        vertical-align: top;\n",
       "    }\n",
       "\n",
       "    .dataframe thead th {\n",
       "        text-align: right;\n",
       "    }\n",
       "</style>\n",
       "<table border=\"1\" class=\"dataframe\">\n",
       "  <thead>\n",
       "    <tr style=\"text-align: right;\">\n",
       "      <th>target</th>\n",
       "      <th>0.0</th>\n",
       "      <th>1.0</th>\n",
       "    </tr>\n",
       "    <tr>\n",
       "      <th>gender_Imputed</th>\n",
       "      <th></th>\n",
       "      <th></th>\n",
       "    </tr>\n",
       "  </thead>\n",
       "  <tbody>\n",
       "    <tr>\n",
       "      <th>Female</th>\n",
       "      <td>73.67</td>\n",
       "      <td>26.33</td>\n",
       "    </tr>\n",
       "    <tr>\n",
       "      <th>Other</th>\n",
       "      <td>73.82</td>\n",
       "      <td>26.18</td>\n",
       "    </tr>\n",
       "    <tr>\n",
       "      <th>Male</th>\n",
       "      <td>75.18</td>\n",
       "      <td>24.82</td>\n",
       "    </tr>\n",
       "  </tbody>\n",
       "</table>\n",
       "</div>"
      ],
      "text/plain": [
       "target            0.0    1.0\n",
       "gender_Imputed              \n",
       "Female          73.67  26.33\n",
       "Other           73.82  26.18\n",
       "Male            75.18  24.82"
      ]
     },
     "execution_count": 21,
     "metadata": {},
     "output_type": "execute_result"
    }
   ],
   "source": [
    "Marital = ((pd.crosstab(index= df.gender_Imputed, columns= df.target, normalize=\"index\"))*100).round(2)\n",
    "Marital.sort_values(1,ascending=False)"
   ]
  },
  {
   "cell_type": "markdown",
   "id": "43fc1393",
   "metadata": {},
   "source": [
    "We can conclude that,Gender does not show a clear trend in trainee looking for jobs"
   ]
  },
  {
   "cell_type": "markdown",
   "id": "e5c90e03",
   "metadata": {},
   "source": [
    "4.Relevant Experience"
   ]
  },
  {
   "cell_type": "code",
   "execution_count": 22,
   "id": "90979c6c",
   "metadata": {},
   "outputs": [
    {
     "data": {
      "text/plain": [
       "Has relevent experience    13792\n",
       "No relevent experience      5366\n",
       "Name: relevent_experience, dtype: int64"
      ]
     },
     "execution_count": 22,
     "metadata": {},
     "output_type": "execute_result"
    }
   ],
   "source": [
    "df.relevent_experience.value_counts()"
   ]
  },
  {
   "cell_type": "code",
   "execution_count": 23,
   "id": "7977641b",
   "metadata": {},
   "outputs": [
    {
     "data": {
      "image/png": "[encoded data removed]",
      "text/plain": [
       "<Figure size 720x360 with 1 Axes>"
      ]
     },
     "metadata": {
      "needs_background": "light"
     },
     "output_type": "display_data"
    }
   ],
   "source": [
    "plt.figure(figsize=(10,5))\n",
    "sns.countplot(x=df.relevent_experience,hue=df.target, data=df, palette='crest')\n",
    "plt.title('Relevent Experience Comparison')\n",
    "plt.show()"
   ]
  },
  {
   "cell_type": "markdown",
   "id": "f4fb1d86",
   "metadata": {},
   "source": [
    "We see that there are more trainee with relevant experience."
   ]
  },
  {
   "cell_type": "code",
   "execution_count": 24,
   "id": "43df5409",
   "metadata": {},
   "outputs": [
    {
     "data": {
      "text/html": [
       "<div>\n",
       "<style scoped>\n",
       "    .dataframe tbody tr th:only-of-type {\n",
       "        vertical-align: middle;\n",
       "    }\n",
       "\n",
       "    .dataframe tbody tr th {\n",
       "        vertical-align: top;\n",
       "    }\n",
       "\n",
       "    .dataframe thead th {\n",
       "        text-align: right;\n",
       "    }\n",
       "</style>\n",
       "<table border=\"1\" class=\"dataframe\">\n",
       "  <thead>\n",
       "    <tr style=\"text-align: right;\">\n",
       "      <th>target</th>\n",
       "      <th>0.0</th>\n",
       "      <th>1.0</th>\n",
       "    </tr>\n",
       "    <tr>\n",
       "      <th>relevent_experience</th>\n",
       "      <th></th>\n",
       "      <th></th>\n",
       "    </tr>\n",
       "  </thead>\n",
       "  <tbody>\n",
       "    <tr>\n",
       "      <th>No relevent experience</th>\n",
       "      <td>66.16</td>\n",
       "      <td>33.84</td>\n",
       "    </tr>\n",
       "    <tr>\n",
       "      <th>Has relevent experience</th>\n",
       "      <td>78.53</td>\n",
       "      <td>21.47</td>\n",
       "    </tr>\n",
       "  </tbody>\n",
       "</table>\n",
       "</div>"
      ],
      "text/plain": [
       "target                     0.0    1.0\n",
       "relevent_experience                  \n",
       "No relevent experience   66.16  33.84\n",
       "Has relevent experience  78.53  21.47"
      ]
     },
     "execution_count": 24,
     "metadata": {},
     "output_type": "execute_result"
    }
   ],
   "source": [
    "Marital = ((pd.crosstab(index= df.relevent_experience, columns= df.target, normalize=\"index\"))*100).round(2)\n",
    "Marital.sort_values(1,ascending=False)"
   ]
  },
  {
   "cell_type": "markdown",
   "id": "17a9e880",
   "metadata": {},
   "source": [
    "Trainee with no experience as Data Science more likely to change job into Data Scientist, with the percentage number 33.84% of all trainee who take the training."
   ]
  },
  {
   "cell_type": "markdown",
   "id": "ab5e145b",
   "metadata": {},
   "source": [
    "5.Enrolled_university"
   ]
  },
  {
   "cell_type": "code",
   "execution_count": 25,
   "id": "f9f129dd",
   "metadata": {},
   "outputs": [
    {
     "data": {
      "text/plain": [
       "no_enrollment       14203\n",
       "Full time course     3757\n",
       "Part time course     1198\n",
       "Name: enrolled_university_Imputed, dtype: int64"
      ]
     },
     "execution_count": 25,
     "metadata": {},
     "output_type": "execute_result"
    }
   ],
   "source": [
    "df.enrolled_university_Imputed.value_counts()"
   ]
  },
  {
   "cell_type": "code",
   "execution_count": 26,
   "id": "c57b0f3b",
   "metadata": {},
   "outputs": [
    {
     "data": {
      "image/png": "[encoded data removed]",
      "text/plain": [
       "<Figure size 720x360 with 1 Axes>"
      ]
     },
     "metadata": {
      "needs_background": "light"
     },
     "output_type": "display_data"
    }
   ],
   "source": [
    "plt.figure(figsize=(10,5))\n",
    "sns.countplot(x=df.enrolled_university_Imputed,hue=df.target, data=df, palette='crest')\n",
    "plt.title('University Enrollment Comparison')\n",
    "plt.show()"
   ]
  },
  {
   "cell_type": "code",
   "execution_count": 27,
   "id": "853bee74",
   "metadata": {},
   "outputs": [
    {
     "data": {
      "text/html": [
       "<div>\n",
       "<style scoped>\n",
       "    .dataframe tbody tr th:only-of-type {\n",
       "        vertical-align: middle;\n",
       "    }\n",
       "\n",
       "    .dataframe tbody tr th {\n",
       "        vertical-align: top;\n",
       "    }\n",
       "\n",
       "    .dataframe thead th {\n",
       "        text-align: right;\n",
       "    }\n",
       "</style>\n",
       "<table border=\"1\" class=\"dataframe\">\n",
       "  <thead>\n",
       "    <tr style=\"text-align: right;\">\n",
       "      <th>target</th>\n",
       "      <th>0.0</th>\n",
       "      <th>1.0</th>\n",
       "    </tr>\n",
       "    <tr>\n",
       "      <th>enrolled_university_Imputed</th>\n",
       "      <th></th>\n",
       "      <th></th>\n",
       "    </tr>\n",
       "  </thead>\n",
       "  <tbody>\n",
       "    <tr>\n",
       "      <th>Full time course</th>\n",
       "      <td>61.91</td>\n",
       "      <td>38.09</td>\n",
       "    </tr>\n",
       "    <tr>\n",
       "      <th>Part time course</th>\n",
       "      <td>74.79</td>\n",
       "      <td>25.21</td>\n",
       "    </tr>\n",
       "    <tr>\n",
       "      <th>no_enrollment</th>\n",
       "      <td>78.57</td>\n",
       "      <td>21.43</td>\n",
       "    </tr>\n",
       "  </tbody>\n",
       "</table>\n",
       "</div>"
      ],
      "text/plain": [
       "target                         0.0    1.0\n",
       "enrolled_university_Imputed              \n",
       "Full time course             61.91  38.09\n",
       "Part time course             74.79  25.21\n",
       "no_enrollment                78.57  21.43"
      ]
     },
     "execution_count": 27,
     "metadata": {},
     "output_type": "execute_result"
    }
   ],
   "source": [
    "Marital = ((pd.crosstab(index= df.enrolled_university_Imputed, columns= df.target, normalize=\"index\"))*100).round(2)\n",
    "Marital.sort_values(1,ascending=False)"
   ]
  },
  {
   "cell_type": "markdown",
   "id": "d8b77a30",
   "metadata": {},
   "source": [
    "Trainee who take the training Full Course are trainee who have intention to change their job, with percentage 38.09%"
   ]
  },
  {
   "cell_type": "markdown",
   "id": "d2a75a08",
   "metadata": {},
   "source": [
    "6.Education_level"
   ]
  },
  {
   "cell_type": "code",
   "execution_count": 28,
   "id": "6f19d537",
   "metadata": {},
   "outputs": [
    {
     "data": {
      "text/plain": [
       "Graduate          12058\n",
       "Masters            4361\n",
       "High School        2017\n",
       "Phd                 414\n",
       "Primary School      308\n",
       "Name: education_level_Imputed, dtype: int64"
      ]
     },
     "execution_count": 28,
     "metadata": {},
     "output_type": "execute_result"
    }
   ],
   "source": [
    "df.education_level_Imputed.value_counts()"
   ]
  },
  {
   "cell_type": "code",
   "execution_count": 29,
   "id": "56deb121",
   "metadata": {},
   "outputs": [
    {
     "data": {
      "image/png": "[encoded data removed]",
      "text/plain": [
       "<Figure size 720x360 with 1 Axes>"
      ]
     },
     "metadata": {
      "needs_background": "light"
     },
     "output_type": "display_data"
    }
   ],
   "source": [
    "plt.figure(figsize=(10,5))\n",
    "sns.countplot(x=df.education_level_Imputed,hue=df.target, data=df, palette='crest')\n",
    "plt.title('Education Level Comparison')\n",
    "plt.show()"
   ]
  },
  {
   "cell_type": "code",
   "execution_count": 30,
   "id": "00f871c2",
   "metadata": {},
   "outputs": [
    {
     "data": {
      "text/html": [
       "<div>\n",
       "<style scoped>\n",
       "    .dataframe tbody tr th:only-of-type {\n",
       "        vertical-align: middle;\n",
       "    }\n",
       "\n",
       "    .dataframe tbody tr th {\n",
       "        vertical-align: top;\n",
       "    }\n",
       "\n",
       "    .dataframe thead th {\n",
       "        text-align: right;\n",
       "    }\n",
       "</style>\n",
       "<table border=\"1\" class=\"dataframe\">\n",
       "  <thead>\n",
       "    <tr style=\"text-align: right;\">\n",
       "      <th>target</th>\n",
       "      <th>0.0</th>\n",
       "      <th>1.0</th>\n",
       "    </tr>\n",
       "    <tr>\n",
       "      <th>education_level_Imputed</th>\n",
       "      <th></th>\n",
       "      <th></th>\n",
       "    </tr>\n",
       "  </thead>\n",
       "  <tbody>\n",
       "    <tr>\n",
       "      <th>Graduate</th>\n",
       "      <td>72.23</td>\n",
       "      <td>27.77</td>\n",
       "    </tr>\n",
       "    <tr>\n",
       "      <th>Masters</th>\n",
       "      <td>78.56</td>\n",
       "      <td>21.44</td>\n",
       "    </tr>\n",
       "    <tr>\n",
       "      <th>High School</th>\n",
       "      <td>80.47</td>\n",
       "      <td>19.53</td>\n",
       "    </tr>\n",
       "    <tr>\n",
       "      <th>Phd</th>\n",
       "      <td>85.99</td>\n",
       "      <td>14.01</td>\n",
       "    </tr>\n",
       "    <tr>\n",
       "      <th>Primary School</th>\n",
       "      <td>86.69</td>\n",
       "      <td>13.31</td>\n",
       "    </tr>\n",
       "  </tbody>\n",
       "</table>\n",
       "</div>"
      ],
      "text/plain": [
       "target                     0.0    1.0\n",
       "education_level_Imputed              \n",
       "Graduate                 72.23  27.77\n",
       "Masters                  78.56  21.44\n",
       "High School              80.47  19.53\n",
       "Phd                      85.99  14.01\n",
       "Primary School           86.69  13.31"
      ]
     },
     "execution_count": 30,
     "metadata": {},
     "output_type": "execute_result"
    }
   ],
   "source": [
    "Marital = ((pd.crosstab(index= df.education_level_Imputed, columns= df.target, normalize=\"index\"))*100).round(2)\n",
    "Marital.sort_values(1,ascending=False)"
   ]
  },
  {
   "cell_type": "markdown",
   "id": "d4959ec7",
   "metadata": {},
   "source": [
    "We see the distribution of the education level feature within the data,It consists mostly of graduates."
   ]
  },
  {
   "cell_type": "markdown",
   "id": "a021003d",
   "metadata": {},
   "source": [
    "7.major_discipline"
   ]
  },
  {
   "cell_type": "code",
   "execution_count": 31,
   "id": "c4dcae5c",
   "metadata": {},
   "outputs": [
    {
     "data": {
      "text/plain": [
       "STEM               17305\n",
       "Humanities           669\n",
       "Other                381\n",
       "Business Degree      327\n",
       "Arts                 253\n",
       "No Major             223\n",
       "Name: major_discipline_Imputed, dtype: int64"
      ]
     },
     "execution_count": 31,
     "metadata": {},
     "output_type": "execute_result"
    }
   ],
   "source": [
    "df.major_discipline_Imputed.value_counts()"
   ]
  },
  {
   "cell_type": "code",
   "execution_count": 32,
   "id": "56acf334",
   "metadata": {},
   "outputs": [
    {
     "data": {
      "image/png": "[encoded data removed]",
      "text/plain": [
       "<Figure size 720x360 with 1 Axes>"
      ]
     },
     "metadata": {
      "needs_background": "light"
     },
     "output_type": "display_data"
    }
   ],
   "source": [
    "plt.figure(figsize=(10,5))\n",
    "sns.countplot(x=df.major_discipline_Imputed,hue=df.target, data=df, palette='crest')\n",
    "plt.title('Major Discipline Comparison')\n",
    "plt.show()"
   ]
  },
  {
   "cell_type": "markdown",
   "id": "8a74ee03",
   "metadata": {},
   "source": [
    "We see that the number of STEMs is quite high compared to others"
   ]
  },
  {
   "cell_type": "code",
   "execution_count": 33,
   "id": "2a6d9a25",
   "metadata": {},
   "outputs": [
    {
     "data": {
      "text/html": [
       "<div>\n",
       "<style scoped>\n",
       "    .dataframe tbody tr th:only-of-type {\n",
       "        vertical-align: middle;\n",
       "    }\n",
       "\n",
       "    .dataframe tbody tr th {\n",
       "        vertical-align: top;\n",
       "    }\n",
       "\n",
       "    .dataframe thead th {\n",
       "        text-align: right;\n",
       "    }\n",
       "</style>\n",
       "<table border=\"1\" class=\"dataframe\">\n",
       "  <thead>\n",
       "    <tr style=\"text-align: right;\">\n",
       "      <th>target</th>\n",
       "      <th>0.0</th>\n",
       "      <th>1.0</th>\n",
       "    </tr>\n",
       "    <tr>\n",
       "      <th>major_discipline_Imputed</th>\n",
       "      <th></th>\n",
       "      <th></th>\n",
       "    </tr>\n",
       "  </thead>\n",
       "  <tbody>\n",
       "    <tr>\n",
       "      <th>Other</th>\n",
       "      <td>73.23</td>\n",
       "      <td>26.77</td>\n",
       "    </tr>\n",
       "    <tr>\n",
       "      <th>Business Degree</th>\n",
       "      <td>73.70</td>\n",
       "      <td>26.30</td>\n",
       "    </tr>\n",
       "    <tr>\n",
       "      <th>STEM</th>\n",
       "      <td>74.92</td>\n",
       "      <td>25.08</td>\n",
       "    </tr>\n",
       "    <tr>\n",
       "      <th>No Major</th>\n",
       "      <td>75.34</td>\n",
       "      <td>24.66</td>\n",
       "    </tr>\n",
       "    <tr>\n",
       "      <th>Humanities</th>\n",
       "      <td>78.92</td>\n",
       "      <td>21.08</td>\n",
       "    </tr>\n",
       "    <tr>\n",
       "      <th>Arts</th>\n",
       "      <td>79.05</td>\n",
       "      <td>20.95</td>\n",
       "    </tr>\n",
       "  </tbody>\n",
       "</table>\n",
       "</div>"
      ],
      "text/plain": [
       "target                      0.0    1.0\n",
       "major_discipline_Imputed              \n",
       "Other                     73.23  26.77\n",
       "Business Degree           73.70  26.30\n",
       "STEM                      74.92  25.08\n",
       "No Major                  75.34  24.66\n",
       "Humanities                78.92  21.08\n",
       "Arts                      79.05  20.95"
      ]
     },
     "execution_count": 33,
     "metadata": {},
     "output_type": "execute_result"
    }
   ],
   "source": [
    "Marital = ((pd.crosstab(index= df.major_discipline_Imputed, columns= df.target, normalize=\"index\"))*100).round(2)\n",
    "Marital.sort_values(1,ascending=False)"
   ]
  },
  {
   "cell_type": "markdown",
   "id": "d31e27f1",
   "metadata": {},
   "source": [
    "There are no big differences of trainee who wants to change their job. This is also the reason why Crammer's V showing this feature has small correlation with target"
   ]
  },
  {
   "cell_type": "markdown",
   "id": "7fce4c8a",
   "metadata": {},
   "source": [
    "8.experience"
   ]
  },
  {
   "cell_type": "code",
   "execution_count": 34,
   "id": "4b54715d",
   "metadata": {},
   "outputs": [
    {
     "data": {
      "text/plain": [
       ">20    3351\n",
       "5      1430\n",
       "4      1403\n",
       "3      1354\n",
       "6      1216\n",
       "2      1127\n",
       "7      1028\n",
       "10      985\n",
       "9       980\n",
       "8       802\n",
       "15      686\n",
       "11      664\n",
       "14      586\n",
       "1       549\n",
       "<1      522\n",
       "16      508\n",
       "12      494\n",
       "13      399\n",
       "17      342\n",
       "19      304\n",
       "18      280\n",
       "20      148\n",
       "Name: experience_Imputed, dtype: int64"
      ]
     },
     "execution_count": 34,
     "metadata": {},
     "output_type": "execute_result"
    }
   ],
   "source": [
    "df.experience_Imputed.value_counts()"
   ]
  },
  {
   "cell_type": "markdown",
   "id": "1ec77b94",
   "metadata": {},
   "source": [
    "We see that the number of (experance>20) is quite high compared to others. "
   ]
  },
  {
   "cell_type": "code",
   "execution_count": 35,
   "id": "0ecc7357",
   "metadata": {},
   "outputs": [
    {
     "data": {
      "text/plain": [
       "21    3351\n",
       "5     1430\n",
       "4     1403\n",
       "3     1354\n",
       "6     1216\n",
       "2     1127\n",
       "7     1028\n",
       "10     985\n",
       "9      980\n",
       "8      802\n",
       "15     686\n",
       "11     664\n",
       "14     586\n",
       "1      549\n",
       "0      522\n",
       "16     508\n",
       "12     494\n",
       "13     399\n",
       "17     342\n",
       "19     304\n",
       "18     280\n",
       "20     148\n",
       "Name: experience_Imputed, dtype: int64"
      ]
     },
     "execution_count": 35,
     "metadata": {},
     "output_type": "execute_result"
    }
   ],
   "source": [
    "df.experience_Imputed=df.experience_Imputed.replace({'<1' : '0','>20': '21'})\n",
    "df.experience_Imputed.value_counts()"
   ]
  },
  {
   "cell_type": "code",
   "execution_count": 36,
   "id": "56e401ed",
   "metadata": {},
   "outputs": [],
   "source": [
    "df['experience_Imputed']=df['experience_Imputed'].astype('int64')"
   ]
  },
  {
   "cell_type": "code",
   "execution_count": 37,
   "id": "245cee89",
   "metadata": {},
   "outputs": [
    {
     "data": {
      "image/png": "[encoded data removed]",
      "text/plain": [
       "<Figure size 720x360 with 1 Axes>"
      ]
     },
     "metadata": {
      "needs_background": "light"
     },
     "output_type": "display_data"
    }
   ],
   "source": [
    "plt.figure(figsize=(10,5))\n",
    "sns.kdeplot(data=df, x=\"experience_Imputed\", hue=\"target\",cut = 0,palette='crest')\n",
    "plt.title('Density Trainee change a job based on Year Experience')\n",
    "plt.show()"
   ]
  },
  {
   "cell_type": "markdown",
   "id": "b7436225",
   "metadata": {},
   "source": [
    "Trainee with working experience 1 - 5 years are more likely to change their job and the trend is decline afterwards"
   ]
  },
  {
   "cell_type": "code",
   "execution_count": 38,
   "id": "2f2f1e2e",
   "metadata": {},
   "outputs": [
    {
     "data": {
      "text/html": [
       "<div>\n",
       "<style scoped>\n",
       "    .dataframe tbody tr th:only-of-type {\n",
       "        vertical-align: middle;\n",
       "    }\n",
       "\n",
       "    .dataframe tbody tr th {\n",
       "        vertical-align: top;\n",
       "    }\n",
       "\n",
       "    .dataframe thead th {\n",
       "        text-align: right;\n",
       "    }\n",
       "</style>\n",
       "<table border=\"1\" class=\"dataframe\">\n",
       "  <thead>\n",
       "    <tr style=\"text-align: right;\">\n",
       "      <th>target</th>\n",
       "      <th>0.0</th>\n",
       "      <th>1.0</th>\n",
       "    </tr>\n",
       "    <tr>\n",
       "      <th>experience_Imputed</th>\n",
       "      <th></th>\n",
       "      <th></th>\n",
       "    </tr>\n",
       "  </thead>\n",
       "  <tbody>\n",
       "    <tr>\n",
       "      <th>0</th>\n",
       "      <td>54.60</td>\n",
       "      <td>45.40</td>\n",
       "    </tr>\n",
       "    <tr>\n",
       "      <th>1</th>\n",
       "      <td>57.56</td>\n",
       "      <td>42.44</td>\n",
       "    </tr>\n",
       "    <tr>\n",
       "      <th>3</th>\n",
       "      <td>64.70</td>\n",
       "      <td>35.30</td>\n",
       "    </tr>\n",
       "    <tr>\n",
       "      <th>2</th>\n",
       "      <td>66.81</td>\n",
       "      <td>33.19</td>\n",
       "    </tr>\n",
       "    <tr>\n",
       "      <th>4</th>\n",
       "      <td>67.43</td>\n",
       "      <td>32.57</td>\n",
       "    </tr>\n",
       "    <tr>\n",
       "      <th>7</th>\n",
       "      <td>70.53</td>\n",
       "      <td>29.47</td>\n",
       "    </tr>\n",
       "    <tr>\n",
       "      <th>5</th>\n",
       "      <td>71.19</td>\n",
       "      <td>28.81</td>\n",
       "    </tr>\n",
       "    <tr>\n",
       "      <th>6</th>\n",
       "      <td>71.79</td>\n",
       "      <td>28.21</td>\n",
       "    </tr>\n",
       "    <tr>\n",
       "      <th>8</th>\n",
       "      <td>75.69</td>\n",
       "      <td>24.31</td>\n",
       "    </tr>\n",
       "    <tr>\n",
       "      <th>11</th>\n",
       "      <td>77.26</td>\n",
       "      <td>22.74</td>\n",
       "    </tr>\n",
       "    <tr>\n",
       "      <th>20</th>\n",
       "      <td>77.70</td>\n",
       "      <td>22.30</td>\n",
       "    </tr>\n",
       "    <tr>\n",
       "      <th>9</th>\n",
       "      <td>78.27</td>\n",
       "      <td>21.73</td>\n",
       "    </tr>\n",
       "    <tr>\n",
       "      <th>10</th>\n",
       "      <td>78.98</td>\n",
       "      <td>21.02</td>\n",
       "    </tr>\n",
       "    <tr>\n",
       "      <th>13</th>\n",
       "      <td>80.70</td>\n",
       "      <td>19.30</td>\n",
       "    </tr>\n",
       "    <tr>\n",
       "      <th>12</th>\n",
       "      <td>81.38</td>\n",
       "      <td>18.62</td>\n",
       "    </tr>\n",
       "    <tr>\n",
       "      <th>14</th>\n",
       "      <td>81.74</td>\n",
       "      <td>18.26</td>\n",
       "    </tr>\n",
       "    <tr>\n",
       "      <th>19</th>\n",
       "      <td>82.57</td>\n",
       "      <td>17.43</td>\n",
       "    </tr>\n",
       "    <tr>\n",
       "      <th>17</th>\n",
       "      <td>83.33</td>\n",
       "      <td>16.67</td>\n",
       "    </tr>\n",
       "    <tr>\n",
       "      <th>15</th>\n",
       "      <td>83.38</td>\n",
       "      <td>16.62</td>\n",
       "    </tr>\n",
       "    <tr>\n",
       "      <th>21</th>\n",
       "      <td>84.30</td>\n",
       "      <td>15.70</td>\n",
       "    </tr>\n",
       "    <tr>\n",
       "      <th>18</th>\n",
       "      <td>84.64</td>\n",
       "      <td>15.36</td>\n",
       "    </tr>\n",
       "    <tr>\n",
       "      <th>16</th>\n",
       "      <td>85.83</td>\n",
       "      <td>14.17</td>\n",
       "    </tr>\n",
       "  </tbody>\n",
       "</table>\n",
       "</div>"
      ],
      "text/plain": [
       "target                0.0    1.0\n",
       "experience_Imputed              \n",
       "0                   54.60  45.40\n",
       "1                   57.56  42.44\n",
       "3                   64.70  35.30\n",
       "2                   66.81  33.19\n",
       "4                   67.43  32.57\n",
       "7                   70.53  29.47\n",
       "5                   71.19  28.81\n",
       "6                   71.79  28.21\n",
       "8                   75.69  24.31\n",
       "11                  77.26  22.74\n",
       "20                  77.70  22.30\n",
       "9                   78.27  21.73\n",
       "10                  78.98  21.02\n",
       "13                  80.70  19.30\n",
       "12                  81.38  18.62\n",
       "14                  81.74  18.26\n",
       "19                  82.57  17.43\n",
       "17                  83.33  16.67\n",
       "15                  83.38  16.62\n",
       "21                  84.30  15.70\n",
       "18                  84.64  15.36\n",
       "16                  85.83  14.17"
      ]
     },
     "execution_count": 38,
     "metadata": {},
     "output_type": "execute_result"
    }
   ],
   "source": [
    "Marital = ((pd.crosstab(index= df[\"experience_Imputed\"], columns= df[\"target\"], normalize=\"index\"))*100).round(2)\n",
    "Marital.sort_values(1,ascending=False)"
   ]
  },
  {
   "cell_type": "markdown",
   "id": "e8232865",
   "metadata": {},
   "source": [
    "9.Company_size"
   ]
  },
  {
   "cell_type": "code",
   "execution_count": 39,
   "id": "d90c9f49",
   "metadata": {},
   "outputs": [
    {
     "data": {
      "text/plain": [
       "50-99        9021\n",
       "100-500      2571\n",
       "10000+       2019\n",
       "10/49        1471\n",
       "1000-4999    1328\n",
       "<10          1308\n",
       "500-999       877\n",
       "5000-9999     563\n",
       "Name: company_size_Imputed, dtype: int64"
      ]
     },
     "execution_count": 39,
     "metadata": {},
     "output_type": "execute_result"
    }
   ],
   "source": [
    "df.company_size_Imputed.value_counts()"
   ]
  },
  {
   "cell_type": "code",
   "execution_count": 40,
   "id": "5b7a87a5",
   "metadata": {},
   "outputs": [],
   "source": [
    "company_size_mapping = {'<10': 1,'10/49': 2,'50-99': 3, '100-500': 4,'500-999': 5,'1000-4999': 6,'5000-9999': 7,'10000+': 8}\n",
    "df['company_size_Imputed'] = df['company_size_Imputed'].map(company_size_mapping)"
   ]
  },
  {
   "cell_type": "code",
   "execution_count": 41,
   "id": "6473abb4",
   "metadata": {},
   "outputs": [
    {
     "data": {
      "image/png": "[encoded data removed]",
      "text/plain": [
       "<Figure size 720x360 with 1 Axes>"
      ]
     },
     "metadata": {
      "needs_background": "light"
     },
     "output_type": "display_data"
    }
   ],
   "source": [
    "plt.figure(figsize=(10,5))\n",
    "sns.kdeplot(data=df, x=\"company_size_Imputed\", hue=\"target\",cut = 0,palette='crest')\n",
    "plt.title('Density Trainee change a job based on Company Size')\n",
    "plt.show()"
   ]
  },
  {
   "cell_type": "code",
   "execution_count": 42,
   "id": "02de2d71",
   "metadata": {},
   "outputs": [
    {
     "data": {
      "text/html": [
       "<div>\n",
       "<style scoped>\n",
       "    .dataframe tbody tr th:only-of-type {\n",
       "        vertical-align: middle;\n",
       "    }\n",
       "\n",
       "    .dataframe tbody tr th {\n",
       "        vertical-align: top;\n",
       "    }\n",
       "\n",
       "    .dataframe thead th {\n",
       "        text-align: right;\n",
       "    }\n",
       "</style>\n",
       "<table border=\"1\" class=\"dataframe\">\n",
       "  <thead>\n",
       "    <tr style=\"text-align: right;\">\n",
       "      <th>target</th>\n",
       "      <th>0.0</th>\n",
       "      <th>1.0</th>\n",
       "    </tr>\n",
       "    <tr>\n",
       "      <th>company_size_Imputed</th>\n",
       "      <th></th>\n",
       "      <th></th>\n",
       "    </tr>\n",
       "  </thead>\n",
       "  <tbody>\n",
       "    <tr>\n",
       "      <th>3</th>\n",
       "      <td>67.24</td>\n",
       "      <td>32.76</td>\n",
       "    </tr>\n",
       "    <tr>\n",
       "      <th>2</th>\n",
       "      <td>76.61</td>\n",
       "      <td>23.39</td>\n",
       "    </tr>\n",
       "    <tr>\n",
       "      <th>8</th>\n",
       "      <td>80.93</td>\n",
       "      <td>19.07</td>\n",
       "    </tr>\n",
       "    <tr>\n",
       "      <th>7</th>\n",
       "      <td>81.88</td>\n",
       "      <td>18.12</td>\n",
       "    </tr>\n",
       "    <tr>\n",
       "      <th>5</th>\n",
       "      <td>82.67</td>\n",
       "      <td>17.33</td>\n",
       "    </tr>\n",
       "    <tr>\n",
       "      <th>1</th>\n",
       "      <td>82.87</td>\n",
       "      <td>17.13</td>\n",
       "    </tr>\n",
       "    <tr>\n",
       "      <th>4</th>\n",
       "      <td>83.86</td>\n",
       "      <td>16.14</td>\n",
       "    </tr>\n",
       "    <tr>\n",
       "      <th>6</th>\n",
       "      <td>84.94</td>\n",
       "      <td>15.06</td>\n",
       "    </tr>\n",
       "  </tbody>\n",
       "</table>\n",
       "</div>"
      ],
      "text/plain": [
       "target                  0.0    1.0\n",
       "company_size_Imputed              \n",
       "3                     67.24  32.76\n",
       "2                     76.61  23.39\n",
       "8                     80.93  19.07\n",
       "7                     81.88  18.12\n",
       "5                     82.67  17.33\n",
       "1                     82.87  17.13\n",
       "4                     83.86  16.14\n",
       "6                     84.94  15.06"
      ]
     },
     "execution_count": 42,
     "metadata": {},
     "output_type": "execute_result"
    }
   ],
   "source": [
    "Marital = ((pd.crosstab(index= df[\"company_size_Imputed\"], columns= df[\"target\"], normalize=\"index\"))*100).round(2)\n",
    "Marital.sort_values(1,ascending=False)"
   ]
  },
  {
   "cell_type": "markdown",
   "id": "38a61137",
   "metadata": {},
   "source": [
    "Trainee who working in company size level 3 which is contains of 50-99 Employee have the highest density to change their job"
   ]
  },
  {
   "cell_type": "markdown",
   "id": "08a83c46",
   "metadata": {},
   "source": [
    "10.Company_type"
   ]
  },
  {
   "cell_type": "code",
   "execution_count": 43,
   "id": "58ef98a8",
   "metadata": {},
   "outputs": [
    {
     "data": {
      "text/plain": [
       "Pvt Ltd                15957\n",
       "Funded Startup          1001\n",
       "Public Sector            955\n",
       "Early Stage Startup      603\n",
       "NGO                      521\n",
       "Other                    121\n",
       "Name: company_type_Imputed, dtype: int64"
      ]
     },
     "execution_count": 43,
     "metadata": {},
     "output_type": "execute_result"
    }
   ],
   "source": [
    "df.company_type_Imputed.value_counts()"
   ]
  },
  {
   "cell_type": "code",
   "execution_count": 44,
   "id": "b8867c3d",
   "metadata": {},
   "outputs": [
    {
     "data": {
      "image/png": "[encoded data removed]",
      "text/plain": [
       "<Figure size 720x360 with 1 Axes>"
      ]
     },
     "metadata": {
      "needs_background": "light"
     },
     "output_type": "display_data"
    }
   ],
   "source": [
    "plt.figure(figsize=(10,5))\n",
    "sns.countplot(x=df[\"company_type_Imputed\"],hue=df[\"target\"], data=df, palette='crest')\n",
    "plt.title('Company Type Comparison')\n",
    "plt.show()"
   ]
  },
  {
   "cell_type": "code",
   "execution_count": 45,
   "id": "6917c540",
   "metadata": {},
   "outputs": [
    {
     "data": {
      "text/html": [
       "<div>\n",
       "<style scoped>\n",
       "    .dataframe tbody tr th:only-of-type {\n",
       "        vertical-align: middle;\n",
       "    }\n",
       "\n",
       "    .dataframe tbody tr th {\n",
       "        vertical-align: top;\n",
       "    }\n",
       "\n",
       "    .dataframe thead th {\n",
       "        text-align: right;\n",
       "    }\n",
       "</style>\n",
       "<table border=\"1\" class=\"dataframe\">\n",
       "  <thead>\n",
       "    <tr style=\"text-align: right;\">\n",
       "      <th>target</th>\n",
       "      <th>0.0</th>\n",
       "      <th>1.0</th>\n",
       "    </tr>\n",
       "    <tr>\n",
       "      <th>company_type_Imputed</th>\n",
       "      <th></th>\n",
       "      <th></th>\n",
       "    </tr>\n",
       "  </thead>\n",
       "  <tbody>\n",
       "    <tr>\n",
       "      <th>Pvt Ltd</th>\n",
       "      <td>73.94</td>\n",
       "      <td>26.06</td>\n",
       "    </tr>\n",
       "    <tr>\n",
       "      <th>Other</th>\n",
       "      <td>76.03</td>\n",
       "      <td>23.97</td>\n",
       "    </tr>\n",
       "    <tr>\n",
       "      <th>Early Stage Startup</th>\n",
       "      <td>76.45</td>\n",
       "      <td>23.55</td>\n",
       "    </tr>\n",
       "    <tr>\n",
       "      <th>Public Sector</th>\n",
       "      <td>78.01</td>\n",
       "      <td>21.99</td>\n",
       "    </tr>\n",
       "    <tr>\n",
       "      <th>NGO</th>\n",
       "      <td>81.38</td>\n",
       "      <td>18.62</td>\n",
       "    </tr>\n",
       "    <tr>\n",
       "      <th>Funded Startup</th>\n",
       "      <td>86.01</td>\n",
       "      <td>13.99</td>\n",
       "    </tr>\n",
       "  </tbody>\n",
       "</table>\n",
       "</div>"
      ],
      "text/plain": [
       "target                  0.0    1.0\n",
       "company_type_Imputed              \n",
       "Pvt Ltd               73.94  26.06\n",
       "Other                 76.03  23.97\n",
       "Early Stage Startup   76.45  23.55\n",
       "Public Sector         78.01  21.99\n",
       "NGO                   81.38  18.62\n",
       "Funded Startup        86.01  13.99"
      ]
     },
     "execution_count": 45,
     "metadata": {},
     "output_type": "execute_result"
    }
   ],
   "source": [
    "Marital = ((pd.crosstab(index= df[\"company_type_Imputed\"], columns= df[\"target\"], normalize=\"index\"))*100).round(2)\n",
    "Marital.sort_values(1,ascending=False)"
   ]
  },
  {
   "cell_type": "markdown",
   "id": "8a91c715",
   "metadata": {},
   "source": [
    "Trainee who works at private company have the highest percentage of changing job."
   ]
  },
  {
   "cell_type": "markdown",
   "id": "1f8ffa7e",
   "metadata": {},
   "source": [
    "11.Last_new_job"
   ]
  },
  {
   "cell_type": "code",
   "execution_count": 46,
   "id": "c375b373",
   "metadata": {},
   "outputs": [
    {
     "data": {
      "text/plain": [
       "1        8463\n",
       ">4       3290\n",
       "2        2900\n",
       "never    2452\n",
       "4        1029\n",
       "3        1024\n",
       "Name: last_new_job_Imputed, dtype: int64"
      ]
     },
     "execution_count": 46,
     "metadata": {},
     "output_type": "execute_result"
    }
   ],
   "source": [
    "df.last_new_job_Imputed.value_counts()"
   ]
  },
  {
   "cell_type": "code",
   "execution_count": 47,
   "id": "52ca9333",
   "metadata": {},
   "outputs": [
    {
     "data": {
      "image/png": "[encoded data removed]",
      "text/plain": [
       "<Figure size 720x360 with 1 Axes>"
      ]
     },
     "metadata": {
      "needs_background": "light"
     },
     "output_type": "display_data"
    }
   ],
   "source": [
    "plt.figure(figsize=(10,5))\n",
    "sns.countplot(x=df[\"last_new_job_Imputed\"],hue=df[\"target\"], data=df, palette='crest')\n",
    "plt.title('Years in Last Job Comparison')\n",
    "plt.show()"
   ]
  },
  {
   "cell_type": "code",
   "execution_count": 48,
   "id": "d565c991",
   "metadata": {},
   "outputs": [
    {
     "data": {
      "text/html": [
       "<div>\n",
       "<style scoped>\n",
       "    .dataframe tbody tr th:only-of-type {\n",
       "        vertical-align: middle;\n",
       "    }\n",
       "\n",
       "    .dataframe tbody tr th {\n",
       "        vertical-align: top;\n",
       "    }\n",
       "\n",
       "    .dataframe thead th {\n",
       "        text-align: right;\n",
       "    }\n",
       "</style>\n",
       "<table border=\"1\" class=\"dataframe\">\n",
       "  <thead>\n",
       "    <tr style=\"text-align: right;\">\n",
       "      <th>target</th>\n",
       "      <th>0.0</th>\n",
       "      <th>1.0</th>\n",
       "    </tr>\n",
       "    <tr>\n",
       "      <th>last_new_job_Imputed</th>\n",
       "      <th></th>\n",
       "      <th></th>\n",
       "    </tr>\n",
       "  </thead>\n",
       "  <tbody>\n",
       "    <tr>\n",
       "      <th>never</th>\n",
       "      <td>69.86</td>\n",
       "      <td>30.14</td>\n",
       "    </tr>\n",
       "    <tr>\n",
       "      <th>1</th>\n",
       "      <td>73.07</td>\n",
       "      <td>26.93</td>\n",
       "    </tr>\n",
       "    <tr>\n",
       "      <th>2</th>\n",
       "      <td>75.86</td>\n",
       "      <td>24.14</td>\n",
       "    </tr>\n",
       "    <tr>\n",
       "      <th>3</th>\n",
       "      <td>77.44</td>\n",
       "      <td>22.56</td>\n",
       "    </tr>\n",
       "    <tr>\n",
       "      <th>4</th>\n",
       "      <td>77.84</td>\n",
       "      <td>22.16</td>\n",
       "    </tr>\n",
       "    <tr>\n",
       "      <th>&gt;4</th>\n",
       "      <td>81.76</td>\n",
       "      <td>18.24</td>\n",
       "    </tr>\n",
       "  </tbody>\n",
       "</table>\n",
       "</div>"
      ],
      "text/plain": [
       "target                  0.0    1.0\n",
       "last_new_job_Imputed              \n",
       "never                 69.86  30.14\n",
       "1                     73.07  26.93\n",
       "2                     75.86  24.14\n",
       "3                     77.44  22.56\n",
       "4                     77.84  22.16\n",
       ">4                    81.76  18.24"
      ]
     },
     "execution_count": 48,
     "metadata": {},
     "output_type": "execute_result"
    }
   ],
   "source": [
    "Marital = ((pd.crosstab(index= df[\"last_new_job_Imputed\"], columns= df[\"target\"], normalize=\"index\"))*100).round(2)\n",
    "Marital.sort_values(1,ascending=False)"
   ]
  },
  {
   "cell_type": "markdown",
   "id": "d9ae25b6",
   "metadata": {},
   "source": [
    "Trainee who are never have job/fresh graduate tend to be Data Scientist after taking the course. Following by trainee who working 1 year in their last job"
   ]
  },
  {
   "cell_type": "markdown",
   "id": "778e5c0b",
   "metadata": {},
   "source": [
    "12.Training_hours"
   ]
  },
  {
   "cell_type": "code",
   "execution_count": 49,
   "id": "9875bd19",
   "metadata": {},
   "outputs": [
    {
     "data": {
      "text/plain": [
       "28     329\n",
       "12     292\n",
       "18     291\n",
       "22     282\n",
       "50     279\n",
       "      ... \n",
       "266      6\n",
       "234      5\n",
       "272      5\n",
       "286      5\n",
       "238      4\n",
       "Name: training_hours, Length: 241, dtype: int64"
      ]
     },
     "execution_count": 49,
     "metadata": {},
     "output_type": "execute_result"
    }
   ],
   "source": [
    "df.training_hours.value_counts()"
   ]
  },
  {
   "cell_type": "code",
   "execution_count": 50,
   "id": "31e2d96c",
   "metadata": {},
   "outputs": [
    {
     "data": {
      "image/png": "[encoded data removed]",
      "text/plain": [
       "<Figure size 720x360 with 1 Axes>"
      ]
     },
     "metadata": {
      "needs_background": "light"
     },
     "output_type": "display_data"
    }
   ],
   "source": [
    "plt.figure(figsize=(10,5))\n",
    "sns.kdeplot(data=df, x=\"training_hours\", hue=\"target\",cut = 0,palette='crest')\n",
    "plt.title('Density Trainee change a job based on Trainig Hours Taken')\n",
    "plt.show()"
   ]
  },
  {
   "cell_type": "markdown",
   "id": "df2c288d",
   "metadata": {},
   "source": [
    "Trainee who took training up to 25 hours tend to change their job into Data Scientistc."
   ]
  },
  {
   "cell_type": "markdown",
   "id": "d45ff915",
   "metadata": {},
   "source": [
    "Checking independency::"
   ]
  },
  {
   "cell_type": "code",
   "execution_count": 51,
   "id": "25359adc",
   "metadata": {},
   "outputs": [],
   "source": [
    "#For Correlation Checking\n",
    "# Crammers V\n",
    "numerical = df.select_dtypes(['int64', 'float64']).columns.to_list()\n",
    "\n",
    "assoc_corratio = []\n",
    "for i in  numerical:\n",
    "    assoc = round(correlation_ratio(df['target'], df[i]),2)\n",
    "    assoc_corratio.append(assoc)"
   ]
  },
  {
   "cell_type": "code",
   "execution_count": 52,
   "id": "de7753ed",
   "metadata": {},
   "outputs": [],
   "source": [
    "df_corr_ratio = pd.DataFrame(data=[assoc_corratio], columns=numerical, index=['target'])"
   ]
  },
  {
   "cell_type": "code",
   "execution_count": 53,
   "id": "e6231945",
   "metadata": {},
   "outputs": [
    {
     "data": {
      "text/plain": [
       "<AxesSubplot:>"
      ]
     },
     "execution_count": 53,
     "metadata": {},
     "output_type": "execute_result"
    },
    {
     "data": {
      "image/png": "[encoded data removed]",
      "text/plain": [
       "<Figure size 936x72 with 1 Axes>"
      ]
     },
     "metadata": {
      "needs_background": "light"
     },
     "output_type": "display_data"
    }
   ],
   "source": [
    "plt.figure(figsize = (13,1))\n",
    "sns.heatmap(df_corr_ratio, cbar = False, annot=True)"
   ]
  },
  {
   "cell_type": "code",
   "execution_count": 54,
   "id": "6a512487",
   "metadata": {},
   "outputs": [],
   "source": [
    "categorical = df.select_dtypes('object').columns.to_list()\n",
    "\n",
    "assoc_cramers = []\n",
    "for i in  categorical:\n",
    "    assoc = round(cramers_v(df['target'], df[i]),2)\n",
    "    assoc_cramers.append(assoc)"
   ]
  },
  {
   "cell_type": "code",
   "execution_count": 55,
   "id": "f645dc14",
   "metadata": {},
   "outputs": [],
   "source": [
    "df_cramers_v = pd.DataFrame(data=[assoc_cramers], columns=categorical, index=['target'])"
   ]
  },
  {
   "cell_type": "code",
   "execution_count": 56,
   "id": "bc331c9e",
   "metadata": {},
   "outputs": [
    {
     "data": {
      "text/plain": [
       "<AxesSubplot:>"
      ]
     },
     "execution_count": 56,
     "metadata": {},
     "output_type": "execute_result"
    },
    {
     "data": {
      "image/png": "[encoded data removed]",
      "text/plain": [
       "<Figure size 936x72 with 1 Axes>"
      ]
     },
     "metadata": {
      "needs_background": "light"
     },
     "output_type": "display_data"
    }
   ],
   "source": [
    "plt.figure(figsize = (13,1))\n",
    "sns.heatmap(df_cramers_v, cbar = False, annot=True)"
   ]
  },
  {
   "cell_type": "markdown",
   "id": "633cfdea",
   "metadata": {},
   "source": [
    "I dropped Gender and Major Discipline data feature as there is no big correlation with the target"
   ]
  },
  {
   "cell_type": "code",
   "execution_count": 57,
   "id": "c68eb1fe",
   "metadata": {},
   "outputs": [],
   "source": [
    "df = df.drop(columns=[\"gender_Imputed\"])\n",
    "df = df.drop(columns=[\"major_discipline_Imputed\"])\n"
   ]
  },
  {
   "cell_type": "code",
   "execution_count": 58,
   "id": "feee1034",
   "metadata": {},
   "outputs": [],
   "source": [
    "# Making Dictionaries of ordinal features\n",
    "\n",
    "relev_exp={\n",
    "    \"No relevent experience\":0,\n",
    "    \"Has relevent experience\":1\n",
    "}\n",
    "\n",
    "enrol_univ={\n",
    "    \"no_enrollment\":0,\n",
    "    \"Full time course\":1,\n",
    "    \"Part time course\":2\n",
    "}\n",
    "\n",
    "edu_lev={\n",
    "    \"Primary School\":0,\n",
    "    \"High School\":1,\n",
    "    \"Graduate\":2,\n",
    "    \"Masters\":3,\n",
    "    \"Phd\":4\n",
    "}\n",
    "\n",
    "\n",
    "expre={\n",
    "    \">20\":21,\n",
    "    \"<1\":0\n",
    "}\n",
    "\n",
    "\n",
    "company_type={\n",
    "    \"Pvt Ltd\":0,\n",
    "    \"Funded Startup\":1, \n",
    "    \"Early Stage Startup\":2, \n",
    "    \"Other\":3, \n",
    "    \"Public Sector\":4, \n",
    "    \"NGO\":5\n",
    "}\n",
    "\n",
    "las_job={\n",
    "    \"never\":0,\n",
    "    \"1\":1,\n",
    "    \"2\":2,\n",
    "    \"3\":3,\n",
    "    \"4\":4,\n",
    "    \">4\":5\n",
    "}\n"
   ]
  },
  {
   "cell_type": "code",
   "execution_count": 59,
   "id": "4183512b",
   "metadata": {},
   "outputs": [],
   "source": [
    "# Transforming Categorical features into numarical features\n",
    "\n",
    "df[\"relevent_experience\"]=df[\"relevent_experience\"].map(relev_exp)\n",
    "df[\"enrolled_university_Imputed\"]=df[\"enrolled_university_Imputed\"].map(enrol_univ)\n",
    "\n",
    "df[\"education_level_Imputed\"]=df[\"education_level_Imputed\"].map(edu_lev)\n",
    "\n",
    "df[\"experience_Imputed\"]=df[\"experience_Imputed\"].map(lambda x:float(x))\n",
    "df[\"experience_Imputed\"]=df[\"experience_Imputed\"].replace(expre)\n",
    "\n",
    "df[\"last_new_job_Imputed\"]=df[\"last_new_job_Imputed\"].map(las_job)\n",
    "\n",
    "df[\"company_type_Imputed\"]=df[\"company_type_Imputed\"].map(company_type)"
   ]
  },
  {
   "cell_type": "code",
   "execution_count": 60,
   "id": "fa5b569a",
   "metadata": {},
   "outputs": [],
   "source": [
    "X = df.drop(columns='target')\n",
    "Y = df['target']"
   ]
  },
  {
   "cell_type": "markdown",
   "id": "e70c2724",
   "metadata": {},
   "source": [
    "Handling Imbalance in Data"
   ]
  },
  {
   "cell_type": "code",
   "execution_count": 61,
   "id": "a612f37c",
   "metadata": {},
   "outputs": [
    {
     "name": "stdout",
     "output_type": "stream",
     "text": [
      "Number of The minority sample: 14381 \n",
      "Number of The majority sample 4777\n"
     ]
    }
   ],
   "source": [
    "\n",
    "num_0 = len(df[df['target']==0])\n",
    "num_1 = len(df[df['target']==1])\n",
    "\n",
    "print('Number of The minority sample:',num_0,'\\n''Number of The majority sample',num_1)\n",
    "#df2=pd.concat([df[df['target']==0].sample(num_1) , df[df['target']==1] ])\n"
   ]
  },
  {
   "cell_type": "code",
   "execution_count": 62,
   "id": "69afe616",
   "metadata": {},
   "outputs": [
    {
     "data": {
      "text/plain": [
       "<AxesSubplot:xlabel='target', ylabel='count'>"
      ]
     },
     "execution_count": 62,
     "metadata": {},
     "output_type": "execute_result"
    },
    {
     "data": {
      "image/png": "[encoded data removed]",
      "text/plain": [
       "<Figure size 432x216 with 1 Axes>"
      ]
     },
     "metadata": {
      "needs_background": "light"
     },
     "output_type": "display_data"
    }
   ],
   "source": [
    "plt.figure(figsize=(6,3))\n",
    "sns.countplot(data=df,x='target', palette ='husl')"
   ]
  },
  {
   "cell_type": "markdown",
   "id": "ebcd57c3",
   "metadata": {},
   "source": [
    "We use SMOTE to oversample the imbalanced class"
   ]
  },
  {
   "cell_type": "code",
   "execution_count": 63,
   "id": "c456fa85",
   "metadata": {},
   "outputs": [
    {
     "name": "stdout",
     "output_type": "stream",
     "text": [
      "Number of The minority sample: 28762 \n",
      "Number of The majority sample 28762\n"
     ]
    }
   ],
   "source": [
    "from imblearn.over_sampling import SMOTE\n",
    "smote = SMOTE(sampling_strategy='not majority')\n",
    "X_smote, Y_smote = smote.fit_resample(X,Y)\n",
    "\n",
    "num_0 = X_smote.shape[0]\n",
    "num_1 =Y_smote.shape[0]\n",
    "\n",
    "print('Number of The minority sample:',num_0,'\\n''Number of The majority sample',num_1)\n",
    "\n"
   ]
  },
  {
   "cell_type": "markdown",
   "id": "a88a2c89",
   "metadata": {},
   "source": [
    "Modelling"
   ]
  },
  {
   "cell_type": "code",
   "execution_count": 64,
   "id": "b5d039e6",
   "metadata": {},
   "outputs": [],
   "source": [
    "#Splitting the train-test\n",
    "x_train,x_test,y_train,y_test = train_test_split(X,Y,train_size=.80,random_state=42)"
   ]
  },
  {
   "cell_type": "code",
   "execution_count": 65,
   "id": "24850a88",
   "metadata": {},
   "outputs": [],
   "source": [
    "#Scaling the data using standardization\n",
    "scaler = StandardScaler()\n",
    "scaled_X_train = scaler.fit_transform(x_train)\n",
    "scaled_X_test = scaler.transform(x_test)"
   ]
  },
  {
   "cell_type": "code",
   "execution_count": 66,
   "id": "f856f89a",
   "metadata": {},
   "outputs": [
    {
     "name": "stdout",
     "output_type": "stream",
     "text": [
      "\n",
      "\n",
      "Testing Results:\n",
      "\n",
      "              precision    recall  f1-score   support\n",
      "\n",
      "         0.0       0.79      0.93      0.86      2880\n",
      "         1.0       0.56      0.26      0.35       952\n",
      "\n",
      "    accuracy                           0.76      3832\n",
      "   macro avg       0.67      0.60      0.61      3832\n",
      "weighted avg       0.73      0.76      0.73      3832\n",
      "\n"
     ]
    },
    {
     "data": {
      "image/png": "[encoded data removed]",
      "text/plain": [
       "<Figure size 432x288 with 2 Axes>"
      ]
     },
     "metadata": {
      "needs_background": "light"
     },
     "output_type": "display_data"
    }
   ],
   "source": [
    "# Initiatlize the model\n",
    "model_lr= LogisticRegression()\n",
    "\n",
    "# Fit the model\n",
    "model_lr.fit(scaled_X_train, y_train)\n",
    "\n",
    "# Predict data points \n",
    "y_pred_test = model_lr.predict(scaled_X_test)\n",
    "accuracy_score(y_test,y_pred_test)\n",
    "plot_confusion_matrix(model_lr,scaled_X_test,y_test)\n",
    "# Print accuracy scores\n",
    "\n",
    "print(\"\\n\\nTesting Results:\\n\")\n",
    "print(classification_report(y_test,y_pred_test))"
   ]
  },
  {
   "cell_type": "markdown",
   "id": "ad5dcb89",
   "metadata": {},
   "source": [
    "We get an accuracy score of 76%."
   ]
  },
  {
   "cell_type": "code",
   "execution_count": 67,
   "id": "e688a46d",
   "metadata": {},
   "outputs": [
    {
     "data": {
      "text/plain": [
       "0.7659185803757829"
      ]
     },
     "execution_count": 67,
     "metadata": {},
     "output_type": "execute_result"
    }
   ],
   "source": [
    "\n",
    "model=RandomForestClassifier(n_jobs=-1, random_state=42)\n",
    "model.fit(x_train, y_train)\n",
    "model.score(x_test, y_test)\n",
    "model.score(x_test, y_test)\n"
   ]
  },
  {
   "cell_type": "code",
   "execution_count": 68,
   "id": "09ca2ef4",
   "metadata": {},
   "outputs": [
    {
     "name": "stdout",
     "output_type": "stream",
     "text": [
      "RESULT\n",
      "Random Forest Model Acc :  0.7745302713987474\n"
     ]
    }
   ],
   "source": [
    "# model accuracy\n",
    "result = []\n",
    "\n",
    "random_forest_model = RandomForestClassifier(max_depth=7, random_state= 59)\n",
    "\n",
    "random_forest_model.fit(x_train, y_train)\n",
    "\n",
    "y_pred_random_forest = random_forest_model.predict(x_test)\n",
    "\n",
    "cm_random_forest = confusion_matrix(y_pred_random_forest, y_test)\n",
    "\n",
    "acc_random_forest = accuracy_score(y_test, y_pred_random_forest)\n",
    "\n",
    "result.append(acc_random_forest)\n",
    "\n",
    "print(\"RESULT\")\n",
    "\n",
    "print(\"Random Forest Model Acc : \",acc_random_forest)"
   ]
  },
  {
   "cell_type": "code",
   "execution_count": 69,
   "id": "e5be789a",
   "metadata": {},
   "outputs": [
    {
     "name": "stdout",
     "output_type": "stream",
     "text": [
      "Training Results:\n",
      "\n",
      "              precision    recall  f1-score   support\n",
      "\n",
      "         0.0       0.81      0.93      0.87     11501\n",
      "         1.0       0.61      0.36      0.45      3825\n",
      "\n",
      "    accuracy                           0.78     15326\n",
      "   macro avg       0.71      0.64      0.66     15326\n",
      "weighted avg       0.76      0.78      0.76     15326\n",
      "\n",
      "\n",
      "\n",
      "Testing Results:\n",
      "\n",
      "              precision    recall  f1-score   support\n",
      "\n",
      "         0.0       0.81      0.91      0.86      2880\n",
      "         1.0       0.57      0.34      0.43       952\n",
      "\n",
      "    accuracy                           0.77      3832\n",
      "   macro avg       0.69      0.63      0.64      3832\n",
      "weighted avg       0.75      0.77      0.75      3832\n",
      "\n"
     ]
    }
   ],
   "source": [
    "forest = RandomForestClassifier(max_samples=0.01)\n",
    "forest.fit(x_train, y_train)\n",
    "ypred_tr = forest.predict(x_train)\n",
    "ypred_ts = forest.predict(x_test)\n",
    "print(\"Training Results:\\n\")\n",
    "print(classification_report(y_train, ypred_tr))\n",
    "print(\"\\n\\nTesting Results:\\n\")\n",
    "print(classification_report(y_test, ypred_ts))"
   ]
  },
  {
   "cell_type": "markdown",
   "id": "047aa02f",
   "metadata": {},
   "source": [
    "We get an accuracy score of 77%"
   ]
  }
 ],
 "metadata": {
  "kernelspec": {
   "display_name": "Python 3 (ipykernel)",
   "language": "python",
   "name": "python3"
  },
  "language_info": {
   "codemirror_mode": {
    "name": "ipython",
    "version": 3
   },
   "file_extension": ".py",
   "mimetype": "text/x-python",
   "name": "python",
   "nbconvert_exporter": "python",
   "pygments_lexer": "ipython3",
   "version": "3.9.7"
  }
 },
 "nbformat": 4,
 "nbformat_minor": 5
}
